{
 "cells": [
  {
   "cell_type": "markdown",
   "metadata": {},
   "source": [
    "# Text and code\n",
    "\n",
    "Lets start with trying to understand how a structure behaves. Are you more comfortable with a beam or a column example?"
   ]
  },
  {
   "cell_type": "code",
   "execution_count": 1,
   "metadata": {},
   "outputs": [
    {
     "name": "stdout",
     "output_type": "stream",
     "text": [
      "type B if you prefer a beam and type C if you prefer a column\n",
      " type your preference here\n"
     ]
    }
   ],
   "source": [
    "print('type B if you prefer a beam and type C if you prefer a column')\n",
    "print(' type your preference here')"
   ]
  }
 ],
 "metadata": {
  "kernelspec": {
   "display_name": "iitm-base",
   "language": "python",
   "name": "python3"
  },
  "language_info": {
   "codemirror_mode": {
    "name": "ipython",
    "version": 3
   },
   "file_extension": ".py",
   "mimetype": "text/x-python",
   "name": "python",
   "nbconvert_exporter": "python",
   "pygments_lexer": "ipython3",
   "version": "3.12.7"
  }
 },
 "nbformat": 4,
 "nbformat_minor": 2
}
